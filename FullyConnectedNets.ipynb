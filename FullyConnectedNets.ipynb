{
 "cells": [
  {
   "cell_type": "markdown",
   "metadata": {
    "tags": [
     "pdf-title"
    ]
   },
   "source": [
    "# Fully-Connected Neural Nets"
   ]
  },
  {
   "cell_type": "markdown",
   "metadata": {
    "tags": [
     "pdf-ignore"
    ]
   },
   "source": [
    "In this exercise we will implement fully-connected networks using a modular approach. For each layer we will implement a `forward` and a `backward` function. The `forward` function will receive inputs, weights, and other parameters and will return both an output and a `cache` object storing data needed for the backward pass, like this:\n",
    "\n",
    "```python\n",
    "def layer_forward(x, w):\n",
    "  \"\"\" Receive inputs x and weights w \"\"\"\n",
    "  # Do some computations ...\n",
    "  z = # ... some intermediate value\n",
    "  # Do some more computations ...\n",
    "  out = # the output\n",
    "   \n",
    "  cache = (x, w, z, out) # Values we need to compute gradients\n",
    "   \n",
    "  return out, cache\n",
    "```\n",
    "\n",
    "The backward pass will receive upstream derivatives and the `cache` object, and will return gradients with respect to the inputs and weights, like this:\n",
    "\n",
    "```python\n",
    "def layer_backward(dout, cache):\n",
    "  \"\"\"\n",
    "  Receive dout (derivative of loss with respect to outputs) and cache,\n",
    "  and compute derivative with respect to inputs.\n",
    "  \"\"\"\n",
    "  # Unpack cache values\n",
    "  x, w, z, out = cache\n",
    "  \n",
    "  # Use values in cache to compute derivatives\n",
    "  dx = # Derivative of loss with respect to x\n",
    "  dw = # Derivative of loss with respect to w\n",
    "  \n",
    "  return dx, dw\n",
    "```\n",
    "\n",
    "After implementing a bunch of layers this way, we will be able to easily combine them to build classifiers with different architectures.\n",
    "\n",
    "In addition to implementing fully-connected networks of arbitrary depth, we will also explore different update rules for optimization, and introduce Dropout as a regularizer and Batch/Layer Normalization as a tool to more efficiently optimize deep networks.\n",
    "  "
   ]
  },
  {
   "cell_type": "code",
   "execution_count": 1,
   "metadata": {
    "tags": [
     "pdf-ignore"
    ]
   },
   "outputs": [],
   "source": [
    "# As usual, a bit of setup\n",
    "from __future__ import print_function\n",
    "import time\n",
    "import numpy as np\n",
    "import matplotlib.pyplot as plt\n",
    "from annp.classifiers.fc_net import *\n",
    "from annp.data_utils import get_CIFAR10_data\n",
    "from annp.gradient_check import eval_numerical_gradient, eval_numerical_gradient_array\n",
    "from annp.solver import Solver\n",
    "\n",
    "%matplotlib inline\n",
    "plt.rcParams['figure.figsize'] = (10.0, 8.0) # set default size of plots\n",
    "plt.rcParams['image.interpolation'] = 'nearest'\n",
    "plt.rcParams['image.cmap'] = 'gray'\n",
    "\n",
    "# for auto-reloading external modules\n",
    "# see http://stackoverflow.com/questions/1907993/autoreload-of-modules-in-ipython\n",
    "%load_ext autoreload\n",
    "%autoreload 2\n",
    "\n",
    "def rel_error(x, y):\n",
    "  \"\"\" returns relative error \"\"\"\n",
    "  return np.max(np.abs(x - y) / (np.maximum(1e-8, np.abs(x) + np.abs(y))))"
   ]
  },
  {
   "cell_type": "code",
   "execution_count": 2,
   "metadata": {
    "tags": [
     "pdf-ignore"
    ]
   },
   "outputs": [
    {
     "name": "stdout",
     "output_type": "stream",
     "text": [
      "('X_train: ', (49000, 3, 32, 32))\n",
      "('y_train: ', (49000,))\n",
      "('X_val: ', (1000, 3, 32, 32))\n",
      "('y_val: ', (1000,))\n",
      "('X_test: ', (1000, 3, 32, 32))\n",
      "('y_test: ', (1000,))\n"
     ]
    }
   ],
   "source": [
    "# Load the (preprocessed) CIFAR10 data.\n",
    "\n",
    "data = get_CIFAR10_data()\n",
    "for k, v in list(data.items()):\n",
    "  print(('%s: ' % k, v.shape))"
   ]
  },
  {
   "cell_type": "markdown",
   "metadata": {},
   "source": [
    "# Affine layer: forward\n",
    "Open the file `annp/layers.py` and implement the `affine_forward` function.\n",
    "\n",
    "Once you are done you can test your implementaion by running the following:"
   ]
  },
  {
   "cell_type": "code",
   "execution_count": 3,
   "metadata": {},
   "outputs": [
    {
     "name": "stdout",
     "output_type": "stream",
     "text": [
      "Testing affine_forward function:\n",
      "difference:  9.769848888397517e-10\n"
     ]
    }
   ],
   "source": [
    "# Test the affine_forward function\n",
    "\n",
    "num_inputs = 2\n",
    "input_shape = (4, 5, 6)\n",
    "output_dim = 3\n",
    "\n",
    "input_size = num_inputs * np.prod(input_shape)\n",
    "weight_size = output_dim * np.prod(input_shape)\n",
    "\n",
    "x = np.linspace(-0.1, 0.5, num=input_size).reshape(num_inputs, *input_shape)\n",
    "w = np.linspace(-0.2, 0.3, num=weight_size).reshape(np.prod(input_shape), output_dim)\n",
    "b = np.linspace(-0.3, 0.1, num=output_dim)\n",
    "\n",
    "out, _ = affine_forward(x, w, b)\n",
    "correct_out = np.array([[ 1.49834967,  1.70660132,  1.91485297],\n",
    "                        [ 3.25553199,  3.5141327,   3.77273342]])\n",
    "\n",
    "# Compare your output with ours. The error should be between 1e-8 and 1e-10 or less.\n",
    "print('Testing affine_forward function:')\n",
    "print('difference: ', rel_error(out, correct_out))"
   ]
  },
  {
   "cell_type": "markdown",
   "metadata": {},
   "source": [
    "# Affine layer: backward\n",
    "Now implement the `affine_backward` function and test your implementation using numeric gradient checking."
   ]
  },
  {
   "cell_type": "code",
   "execution_count": 4,
   "metadata": {},
   "outputs": [
    {
     "name": "stdout",
     "output_type": "stream",
     "text": [
      "Testing affine_backward function:\n",
      "dx error:  1.0908199508708189e-10\n",
      "dw error:  2.1752635504596857e-10\n",
      "db error:  7.736978834487815e-12\n"
     ]
    }
   ],
   "source": [
    "# Test the affine_backward function\n",
    "np.random.seed(231)\n",
    "x = np.random.randn(10, 2, 3)\n",
    "w = np.random.randn(6, 5)\n",
    "b = np.random.randn(5)\n",
    "dout = np.random.randn(10, 5)\n",
    "\n",
    "dx_num = eval_numerical_gradient_array(lambda x: affine_forward(x, w, b)[0], x, dout)\n",
    "dw_num = eval_numerical_gradient_array(lambda w: affine_forward(x, w, b)[0], w, dout)\n",
    "db_num = eval_numerical_gradient_array(lambda b: affine_forward(x, w, b)[0], b, dout)\n",
    "\n",
    "_, cache = affine_forward(x, w, b)\n",
    "dx, dw, db = affine_backward(dout, cache)\n",
    "\n",
    "# The error should be between 1e-9 and 1e-11 or less\n",
    "print('Testing affine_backward function:')\n",
    "print('dx error: ', rel_error(dx_num, dx))\n",
    "print('dw error: ', rel_error(dw_num, dw))\n",
    "print('db error: ', rel_error(db_num, db))"
   ]
  },
  {
   "cell_type": "markdown",
   "metadata": {},
   "source": [
    "# ReLU activation: forward\n",
    "Implement the forward pass for the ReLU activation function in the `relu_forward` function and test your implementation using the following:"
   ]
  },
  {
   "cell_type": "code",
   "execution_count": 5,
   "metadata": {},
   "outputs": [
    {
     "name": "stdout",
     "output_type": "stream",
     "text": [
      "Testing relu_forward function:\n",
      "difference:  4.999999798022158e-08\n"
     ]
    }
   ],
   "source": [
    "# Test the relu_forward function\n",
    "\n",
    "x = np.linspace(-0.5, 0.5, num=12).reshape(3, 4)\n",
    "\n",
    "out, _ = relu_forward(x)\n",
    "correct_out = np.array([[ 0.,          0.,          0.,          0.,        ],\n",
    "                        [ 0.,          0.,          0.04545455,  0.13636364,],\n",
    "                        [ 0.22727273,  0.31818182,  0.40909091,  0.5,       ]])\n",
    "\n",
    "# Compare your output with ours. The error should be on the order of e-8\n",
    "print('Testing relu_forward function:')\n",
    "print('difference: ', rel_error(out, correct_out))"
   ]
  },
  {
   "cell_type": "markdown",
   "metadata": {},
   "source": [
    "# ReLU activation: backward\n",
    "Now implement the backward pass for the ReLU activation function in the `relu_backward` function and test your implementation using numeric gradient checking:"
   ]
  },
  {
   "cell_type": "code",
   "execution_count": 6,
   "metadata": {},
   "outputs": [
    {
     "name": "stdout",
     "output_type": "stream",
     "text": [
      "Testing relu_backward function:\n",
      "dx error:  3.2756349136310288e-12\n"
     ]
    }
   ],
   "source": [
    "np.random.seed(231)\n",
    "x = np.random.randn(10, 10)\n",
    "dout = np.random.randn(*x.shape)\n",
    "\n",
    "dx_num = eval_numerical_gradient_array(lambda x: relu_forward(x)[0], x, dout)\n",
    "\n",
    "_, cache = relu_forward(x)\n",
    "dx = relu_backward(dout, cache)\n",
    "\n",
    "# The error should be on the order of e-12\n",
    "print('Testing relu_backward function:')\n",
    "print('dx error: ', rel_error(dx_num, dx))"
   ]
  },
  {
   "cell_type": "markdown",
   "metadata": {
    "tags": [
     "pdf-inline"
    ]
   },
   "source": [
    "## Inline Question 1: \n",
    "\n",
    "We've only asked you to implement ReLU, but there are a number of different activation functions that one could use in neural networks, each with its pros and cons. In particular, an issue commonly seen with activation functions is getting zero (or close to zero) gradient flow during backpropagation. Which of the following activation functions have this problem? If you consider these functions in the one dimensional case, what types of input would lead to this behaviour?\n",
    "1. Sigmoid\n",
    "2. ReLU\n",
    "3. Leaky ReLU\n",
    "\n",
    "## Answer:\n",
    "1.Sigmoid函数的公式为$\\sigma(x)=\\frac{1}{1+e^{-x}}$，其反向传播为：$\\sigma(x)(1-\\sigma(x))$。当$x$非常大或非常小时，其梯度会非常接近0，会导致梯度消失。\n",
    "\n",
    "2.ReLU函数的公式为$f(x)=\\max(0,x)$，其反向传播为：当$x\\le 0$时，反向传播为0；当$x>0$时，反向传播为1.当$x$为非正数时，其梯度为0，会导致梯度消失。\n",
    "\n",
    "3.Leaky ReLU函数的公式为$f(x)=\\max(\\alpha x,x)$，其中$\\alpha$为一个很小的小数如0.01。其反向传播为：当$x\\le 0$时，反向传播为$\\alpha$；当$x>0$时，其反向传播为1。因此当$\\alpha$能取到一个恰当的值时，Leaky ReLU不会出现梯度为0或非常接近0，不会出现梯度消失。\n",
    "\n",
    "因此在一维情况下，Sigmoid和ReLU函数都可能出现梯度消失。\n"
   ]
  },
  {
   "cell_type": "markdown",
   "metadata": {},
   "source": [
    "# Affine-relu layers\n",
    "There are some common patterns of layers that are frequently used in neural nets. For example, affine layers are frequently followed by a ReLU nonlinearity. To make these common patterns easy, we define several convenience layers in the file `annp/layer_utils.py`.\n",
    "\n",
    "For now take a look at the `affine_relu_forward` and `affine_relu_backward` functions, and run the following to numerically gradient check the backward pass:"
   ]
  },
  {
   "cell_type": "code",
   "execution_count": 7,
   "metadata": {},
   "outputs": [
    {
     "name": "stdout",
     "output_type": "stream",
     "text": [
      "Testing affine_relu_forward and affine_relu_backward:\n",
      "dx error:  6.395535042049294e-11\n",
      "dw error:  8.162015570444288e-11\n",
      "db error:  7.826724021458994e-12\n"
     ]
    }
   ],
   "source": [
    "from annp.layer_utils import affine_relu_forward, affine_relu_backward\n",
    "np.random.seed(231)\n",
    "x = np.random.randn(2, 3, 4)\n",
    "w = np.random.randn(12, 10)\n",
    "b = np.random.randn(10)\n",
    "dout = np.random.randn(2, 10)\n",
    "\n",
    "out, cache = affine_relu_forward(x, w, b)\n",
    "dx, dw, db = affine_relu_backward(dout, cache)\n",
    "\n",
    "dx_num = eval_numerical_gradient_array(lambda x: affine_relu_forward(x, w, b)[0], x, dout)\n",
    "dw_num = eval_numerical_gradient_array(lambda w: affine_relu_forward(x, w, b)[0], w, dout)\n",
    "db_num = eval_numerical_gradient_array(lambda b: affine_relu_forward(x, w, b)[0], b, dout)\n",
    "\n",
    "# Relative error should be between 1e-9 and 1e-11 or less\n",
    "print('Testing affine_relu_forward and affine_relu_backward:')\n",
    "print('dx error: ', rel_error(dx_num, dx))\n",
    "print('dw error: ', rel_error(dw_num, dw))\n",
    "print('db error: ', rel_error(db_num, db))"
   ]
  },
  {
   "cell_type": "markdown",
   "metadata": {},
   "source": [
    "# Two-layer network\n",
    "Now that you have implemented modular versions of the necessary layers, you will implement a two layer network using these modular implementations.\n",
    "\n",
    "Open the file `annp/classifiers/fc_net.py` and complete the implementation of the `TwoLayerNet` class. This class will serve as a model for the other networks you will implement in this assignment, so read through it to make sure you understand the API. You can run the cell below to test your implementation."
   ]
  },
  {
   "cell_type": "code",
   "execution_count": 14,
   "metadata": {},
   "outputs": [
    {
     "name": "stdout",
     "output_type": "stream",
     "text": [
      "Testing initialization ... \n",
      "Testing test-time forward pass ... \n",
      "Testing training loss (no regularization)\n",
      "Running numeric gradient check with reg =  0.0\n",
      "W1 relative error: 1.53e-08\n",
      "W2 relative error: 3.37e-10\n",
      "b1 relative error: 8.01e-09\n",
      "b2 relative error: 4.33e-10\n",
      "Running numeric gradient check with reg =  0.7\n",
      "W1 relative error: 2.53e-07\n",
      "W2 relative error: 2.85e-08\n",
      "b1 relative error: 1.35e-08\n",
      "b2 relative error: 1.97e-09\n"
     ]
    }
   ],
   "source": [
    "np.random.seed(231)\n",
    "N, D, H, C = 3, 5, 50, 7\n",
    "X = np.random.randn(N, D)\n",
    "y = np.random.randint(C, size=N)\n",
    "\n",
    "std = 1e-3\n",
    "model = TwoLayerNet(input_dim=D, hidden_dim=H, num_classes=C, weight_scale=std)\n",
    "\n",
    "print('Testing initialization ... ')\n",
    "W1_std = abs(model.params['W1'].std() - std)\n",
    "b1 = model.params['b1']\n",
    "W2_std = abs(model.params['W2'].std() - std)\n",
    "b2 = model.params['b2']\n",
    "assert W1_std < std / 10, 'First layer weights do not seem right'\n",
    "assert np.all(b1 == 0), 'First layer biases do not seem right'\n",
    "assert W2_std < std / 10, 'Second layer weights do not seem right'\n",
    "assert np.all(b2 == 0), 'Second layer biases do not seem right'\n",
    "\n",
    "print('Testing test-time forward pass ... ')\n",
    "model.params['W1'] = np.linspace(-0.7, 0.3, num=D*H).reshape(D, H)\n",
    "model.params['b1'] = np.linspace(-0.1, 0.9, num=H)\n",
    "model.params['W2'] = np.linspace(-0.3, 0.4, num=H*C).reshape(H, C)\n",
    "model.params['b2'] = np.linspace(-0.9, 0.1, num=C)\n",
    "X = np.linspace(-5.5, 4.5, num=N*D).reshape(D, N).T\n",
    "scores = model.loss(X)\n",
    "correct_scores = np.asarray(\n",
    "  [[11.53165108,  12.2917344,   13.05181771,  13.81190102,  14.57198434, 15.33206765,  16.09215096],\n",
    "   [12.05769098,  12.74614105,  13.43459113,  14.1230412,   14.81149128, 15.49994135,  16.18839143],\n",
    "   [12.58373087,  13.20054771,  13.81736455,  14.43418138,  15.05099822, 15.66781506,  16.2846319 ]])\n",
    "scores_diff = np.abs(scores - correct_scores).sum()\n",
    "assert scores_diff < 1e-6, 'Problem with test-time forward pass'\n",
    "\n",
    "print('Testing training loss (no regularization)')\n",
    "y = np.asarray([0, 5, 1])\n",
    "loss, grads = model.loss(X, y)\n",
    "correct_loss = 3.4702243556\n",
    "assert abs(loss - correct_loss) < 1e-10, 'Problem with training-time loss'\n",
    "\n",
    "model.reg = 1.0\n",
    "loss, grads = model.loss(X, y)\n",
    "correct_loss = 26.5948426952\n",
    "assert abs(loss - correct_loss) < 1e-10, 'Problem with regularization loss'\n",
    "\n",
    "# Errors should be around e-7 or less\n",
    "for reg in [0.0, 0.7]:\n",
    "  print('Running numeric gradient check with reg = ', reg)\n",
    "  model.reg = reg\n",
    "  loss, grads = model.loss(X, y)\n",
    "\n",
    "  for name in sorted(grads):\n",
    "    f = lambda _: model.loss(X, y)[0]\n",
    "    grad_num = eval_numerical_gradient(f, model.params[name], verbose=False)\n",
    "    print('%s relative error: %.2e' % (name, rel_error(grad_num, grads[name])))"
   ]
  },
  {
   "cell_type": "markdown",
   "metadata": {},
   "source": [
    "# Solver\n",
    "In the previous assignment, the logic for training models was coupled to the models themselves. Following a more modular design, for this assignment we have split the logic for training models into a separate class.\n",
    "\n",
    "Open the file `annp/solver.py` and read through it to familiarize yourself with the API. After doing so, use a `Solver` instance to train a `TwoLayerNet` that achieves at least `50%` accuracy on the validation set."
   ]
  },
  {
   "cell_type": "code",
   "execution_count": 9,
   "metadata": {
    "id": "tln_solver_accuracy"
   },
   "outputs": [
    {
     "name": "stdout",
     "output_type": "stream",
     "text": [
      "(Iteration 1 / 12250) loss: 2.304060\n",
      "(Epoch 0 / 25) train acc: 0.085000; val_acc: 0.066000\n",
      "(Iteration 101 / 12250) loss: 2.222541\n",
      "(Iteration 201 / 12250) loss: 2.181883\n",
      "(Iteration 301 / 12250) loss: 2.153404\n",
      "(Iteration 401 / 12250) loss: 1.972974\n",
      "(Epoch 1 / 25) train acc: 0.271000; val_acc: 0.315000\n",
      "(Iteration 501 / 12250) loss: 1.796632\n",
      "(Iteration 601 / 12250) loss: 1.955007\n",
      "(Iteration 701 / 12250) loss: 1.899272\n",
      "(Iteration 801 / 12250) loss: 1.844098\n",
      "(Iteration 901 / 12250) loss: 1.754241\n",
      "(Epoch 2 / 25) train acc: 0.373000; val_acc: 0.371000\n",
      "(Iteration 1001 / 12250) loss: 1.675800\n",
      "(Iteration 1101 / 12250) loss: 1.726963\n",
      "(Iteration 1201 / 12250) loss: 1.867177\n",
      "(Iteration 1301 / 12250) loss: 1.710648\n",
      "(Iteration 1401 / 12250) loss: 1.555107\n",
      "(Epoch 3 / 25) train acc: 0.408000; val_acc: 0.407000\n",
      "(Iteration 1501 / 12250) loss: 1.588925\n",
      "(Iteration 1601 / 12250) loss: 1.642699\n",
      "(Iteration 1701 / 12250) loss: 1.629069\n",
      "(Iteration 1801 / 12250) loss: 1.638693\n",
      "(Iteration 1901 / 12250) loss: 1.679192\n",
      "(Epoch 4 / 25) train acc: 0.443000; val_acc: 0.434000\n",
      "(Iteration 2001 / 12250) loss: 1.696759\n",
      "(Iteration 2101 / 12250) loss: 1.568861\n",
      "(Iteration 2201 / 12250) loss: 1.578750\n",
      "(Iteration 2301 / 12250) loss: 1.605095\n",
      "(Iteration 2401 / 12250) loss: 1.557867\n",
      "(Epoch 5 / 25) train acc: 0.433000; val_acc: 0.446000\n",
      "(Iteration 2501 / 12250) loss: 1.712369\n",
      "(Iteration 2601 / 12250) loss: 1.588273\n",
      "(Iteration 2701 / 12250) loss: 1.458520\n",
      "(Iteration 2801 / 12250) loss: 1.557797\n",
      "(Iteration 2901 / 12250) loss: 1.541576\n",
      "(Epoch 6 / 25) train acc: 0.435000; val_acc: 0.468000\n",
      "(Iteration 3001 / 12250) loss: 1.586388\n",
      "(Iteration 3101 / 12250) loss: 1.602233\n",
      "(Iteration 3201 / 12250) loss: 1.494280\n",
      "(Iteration 3301 / 12250) loss: 1.539111\n",
      "(Iteration 3401 / 12250) loss: 1.623852\n",
      "(Epoch 7 / 25) train acc: 0.443000; val_acc: 0.462000\n",
      "(Iteration 3501 / 12250) loss: 1.531559\n",
      "(Iteration 3601 / 12250) loss: 1.351497\n",
      "(Iteration 3701 / 12250) loss: 1.581862\n",
      "(Iteration 3801 / 12250) loss: 1.454089\n",
      "(Iteration 3901 / 12250) loss: 1.437841\n",
      "(Epoch 8 / 25) train acc: 0.475000; val_acc: 0.465000\n",
      "(Iteration 4001 / 12250) loss: 1.555625\n",
      "(Iteration 4101 / 12250) loss: 1.603332\n",
      "(Iteration 4201 / 12250) loss: 1.461293\n",
      "(Iteration 4301 / 12250) loss: 1.457149\n",
      "(Iteration 4401 / 12250) loss: 1.454800\n",
      "(Epoch 9 / 25) train acc: 0.491000; val_acc: 0.469000\n",
      "(Iteration 4501 / 12250) loss: 1.322785\n",
      "(Iteration 4601 / 12250) loss: 1.535019\n",
      "(Iteration 4701 / 12250) loss: 1.351969\n",
      "(Iteration 4801 / 12250) loss: 1.363367\n",
      "(Epoch 10 / 25) train acc: 0.504000; val_acc: 0.479000\n",
      "(Iteration 4901 / 12250) loss: 1.537107\n",
      "(Iteration 5001 / 12250) loss: 1.433820\n",
      "(Iteration 5101 / 12250) loss: 1.369912\n",
      "(Iteration 5201 / 12250) loss: 1.418742\n",
      "(Iteration 5301 / 12250) loss: 1.480388\n",
      "(Epoch 11 / 25) train acc: 0.461000; val_acc: 0.473000\n",
      "(Iteration 5401 / 12250) loss: 1.414130\n",
      "(Iteration 5501 / 12250) loss: 1.537444\n",
      "(Iteration 5601 / 12250) loss: 1.310053\n",
      "(Iteration 5701 / 12250) loss: 1.647861\n",
      "(Iteration 5801 / 12250) loss: 1.446405\n",
      "(Epoch 12 / 25) train acc: 0.491000; val_acc: 0.486000\n",
      "(Iteration 5901 / 12250) loss: 1.360067\n",
      "(Iteration 6001 / 12250) loss: 1.369324\n",
      "(Iteration 6101 / 12250) loss: 1.317818\n",
      "(Iteration 6201 / 12250) loss: 1.518888\n",
      "(Iteration 6301 / 12250) loss: 1.481867\n",
      "(Epoch 13 / 25) train acc: 0.524000; val_acc: 0.490000\n",
      "(Iteration 6401 / 12250) loss: 1.324481\n",
      "(Iteration 6501 / 12250) loss: 1.221389\n",
      "(Iteration 6601 / 12250) loss: 1.289060\n",
      "(Iteration 6701 / 12250) loss: 1.387765\n",
      "(Iteration 6801 / 12250) loss: 1.406498\n",
      "(Epoch 14 / 25) train acc: 0.507000; val_acc: 0.496000\n",
      "(Iteration 6901 / 12250) loss: 1.171863\n",
      "(Iteration 7001 / 12250) loss: 1.361305\n",
      "(Iteration 7101 / 12250) loss: 1.199426\n",
      "(Iteration 7201 / 12250) loss: 1.231838\n",
      "(Iteration 7301 / 12250) loss: 1.315283\n",
      "(Epoch 15 / 25) train acc: 0.543000; val_acc: 0.499000\n",
      "(Iteration 7401 / 12250) loss: 1.232501\n",
      "(Iteration 7501 / 12250) loss: 1.295328\n",
      "(Iteration 7601 / 12250) loss: 1.320089\n",
      "(Iteration 7701 / 12250) loss: 1.254909\n",
      "(Iteration 7801 / 12250) loss: 1.459295\n",
      "(Epoch 16 / 25) train acc: 0.550000; val_acc: 0.511000\n",
      "(Iteration 7901 / 12250) loss: 1.272660\n",
      "(Iteration 8001 / 12250) loss: 1.244715\n",
      "(Iteration 8101 / 12250) loss: 1.324678\n",
      "(Iteration 8201 / 12250) loss: 1.354624\n",
      "(Iteration 8301 / 12250) loss: 1.492822\n",
      "(Epoch 17 / 25) train acc: 0.528000; val_acc: 0.506000\n",
      "(Iteration 8401 / 12250) loss: 1.237380\n",
      "(Iteration 8501 / 12250) loss: 1.338114\n",
      "(Iteration 8601 / 12250) loss: 1.277501\n",
      "(Iteration 8701 / 12250) loss: 1.481943\n",
      "(Iteration 8801 / 12250) loss: 1.397149\n",
      "(Epoch 18 / 25) train acc: 0.545000; val_acc: 0.514000\n",
      "(Iteration 8901 / 12250) loss: 1.358414\n",
      "(Iteration 9001 / 12250) loss: 1.201570\n",
      "(Iteration 9101 / 12250) loss: 1.107046\n",
      "(Iteration 9201 / 12250) loss: 1.359768\n",
      "(Iteration 9301 / 12250) loss: 1.248443\n",
      "(Epoch 19 / 25) train acc: 0.554000; val_acc: 0.508000\n",
      "(Iteration 9401 / 12250) loss: 1.165447\n",
      "(Iteration 9501 / 12250) loss: 1.235868\n",
      "(Iteration 9601 / 12250) loss: 1.222953\n",
      "(Iteration 9701 / 12250) loss: 1.342199\n",
      "(Epoch 20 / 25) train acc: 0.566000; val_acc: 0.512000\n",
      "(Iteration 9801 / 12250) loss: 1.234289\n",
      "(Iteration 9901 / 12250) loss: 1.161919\n",
      "(Iteration 10001 / 12250) loss: 1.246247\n",
      "(Iteration 10101 / 12250) loss: 1.300475\n",
      "(Iteration 10201 / 12250) loss: 1.248068\n",
      "(Epoch 21 / 25) train acc: 0.585000; val_acc: 0.526000\n",
      "(Iteration 10301 / 12250) loss: 1.540919\n",
      "(Iteration 10401 / 12250) loss: 1.153273\n",
      "(Iteration 10501 / 12250) loss: 1.130073\n",
      "(Iteration 10601 / 12250) loss: 1.453546\n",
      "(Iteration 10701 / 12250) loss: 1.341556\n",
      "(Epoch 22 / 25) train acc: 0.569000; val_acc: 0.516000\n",
      "(Iteration 10801 / 12250) loss: 1.338714\n",
      "(Iteration 10901 / 12250) loss: 1.229701\n",
      "(Iteration 11001 / 12250) loss: 1.247584\n",
      "(Iteration 11101 / 12250) loss: 1.327737\n",
      "(Iteration 11201 / 12250) loss: 1.329128\n",
      "(Epoch 23 / 25) train acc: 0.573000; val_acc: 0.511000\n",
      "(Iteration 11301 / 12250) loss: 1.243531\n",
      "(Iteration 11401 / 12250) loss: 1.248055\n",
      "(Iteration 11501 / 12250) loss: 1.307741\n",
      "(Iteration 11601 / 12250) loss: 1.177495\n",
      "(Iteration 11701 / 12250) loss: 1.258696\n",
      "(Epoch 24 / 25) train acc: 0.570000; val_acc: 0.523000\n",
      "(Iteration 11801 / 12250) loss: 1.210469\n",
      "(Iteration 11901 / 12250) loss: 1.109835\n",
      "(Iteration 12001 / 12250) loss: 1.185801\n",
      "(Iteration 12101 / 12250) loss: 1.178341\n",
      "(Iteration 12201 / 12250) loss: 1.012486\n",
      "(Epoch 25 / 25) train acc: 0.573000; val_acc: 0.534000\n"
     ]
    }
   ],
   "source": [
    "model = TwoLayerNet()\n",
    "#datas = {key: value for key, value in data.items() if key in ['X_train','y_train','X_val','y_val']}\n",
    "\n",
    "solver = None\n",
    "\n",
    "##############################################################################\n",
    "# TODO: Use a Solver instance to train a TwoLayerNet that achieves at least  #\n",
    "# 50% accuracy on the validation set.                                        #\n",
    "##############################################################################\n",
    "# *****START OF YOUR CODE (DO NOT DELETE/MODIFY THIS LINE)*****\n",
    "solver = Solver(model, \n",
    "            data, \n",
    "            update_rule = 'sgd',\n",
    "            optim_config={\n",
    "                'learning_rate':1e-4\n",
    "            },\n",
    "            lr_decay=1.0,\n",
    "            batch_size=100,\n",
    "            num_epochs=25,\n",
    "            print_every=100,\n",
    "            verbose=True)\n",
    "solver.train()\n",
    "# pass\n",
    "\n",
    "# *****END OF YOUR CODE (DO NOT DELETE/MODIFY THIS LINE)*****\n",
    "##############################################################################\n",
    "#                             END OF YOUR CODE                               #\n",
    "##############################################################################"
   ]
  },
  {
   "cell_type": "code",
   "execution_count": 10,
   "metadata": {},
   "outputs": [
    {
     "data": {
      "image/png": "[encoded data removed]",
      "text/plain": [
       "<Figure size 1080x864 with 2 Axes>"
      ]
     },
     "metadata": {
      "needs_background": "light"
     },
     "output_type": "display_data"
    }
   ],
   "source": [
    "# Run this cell to visualize training loss and train / val accuracy\n",
    "\n",
    "plt.subplot(2, 1, 1)\n",
    "plt.title('Training loss')\n",
    "plt.plot(solver.loss_history, 'o')\n",
    "plt.xlabel('Iteration')\n",
    "\n",
    "plt.subplot(2, 1, 2)\n",
    "plt.title('Accuracy')\n",
    "plt.plot(solver.train_acc_history, '-o', label='train')\n",
    "plt.plot(solver.val_acc_history, '-o', label='val')\n",
    "plt.plot([0.5] * len(solver.val_acc_history), 'k--')\n",
    "plt.xlabel('Epoch')\n",
    "plt.legend(loc='lower right')\n",
    "plt.gcf().set_size_inches(15, 12)\n",
    "plt.show()"
   ]
  },
  {
   "cell_type": "markdown",
   "metadata": {},
   "source": [
    "# Multilayer network\n",
    "Next you will implement a fully-connected network with an arbitrary number of hidden layers.\n",
    "\n",
    "Read through the `FullyConnectedNet` class in the file `annp/classifiers/fc_net.py`.\n",
    "\n",
    "Implement the initialization, the forward pass, and the backward pass."
   ]
  },
  {
   "cell_type": "markdown",
   "metadata": {},
   "source": [
    "## Initial loss and gradient check\n",
    "\n",
    "As a sanity check, run the following to check the initial loss and to gradient check the network both with and without regularization. Do the initial losses seem reasonable?\n",
    "\n",
    "For gradient checking, you should expect to see errors around 1e-7 or less."
   ]
  },
  {
   "cell_type": "code",
   "execution_count": 16,
   "metadata": {},
   "outputs": [
    {
     "name": "stdout",
     "output_type": "stream",
     "text": [
      "Running check with reg =  0\n",
      "Initial loss:  2.3004790897684924\n",
      "W1 relative error: 1.48e-07\n",
      "W2 relative error: 2.21e-05\n",
      "W3 relative error: 3.53e-07\n",
      "b1 relative error: 5.38e-09\n",
      "b2 relative error: 2.09e-09\n",
      "b3 relative error: 5.80e-11\n",
      "Running check with reg =  3.14\n",
      "Initial loss:  7.052114776533016\n",
      "W1 relative error: 7.36e-09\n",
      "W2 relative error: 6.87e-08\n",
      "W3 relative error: 3.48e-08\n",
      "b1 relative error: 1.48e-08\n",
      "b2 relative error: 1.72e-09\n",
      "b3 relative error: 1.80e-10\n"
     ]
    }
   ],
   "source": [
    "np.random.seed(231)\n",
    "N, D, H1, H2, C = 2, 15, 20, 30, 10\n",
    "X = np.random.randn(N, D)\n",
    "y = np.random.randint(C, size=(N,))\n",
    "\n",
    "for reg in [0, 3.14]:\n",
    "  print('Running check with reg = ', reg)\n",
    "  model = FullyConnectedNet([H1, H2], input_dim=D, num_classes=C,\n",
    "                            reg=reg, weight_scale=5e-2, dtype=np.float64)\n",
    "\n",
    "  loss, grads = model.loss(X, y)\n",
    "  print('Initial loss: ', loss)\n",
    "  \n",
    "  # Most of the errors should be on the order of e-7 or smaller.   \n",
    "  # for the check when reg = 0.0\n",
    "  for name in sorted(grads):\n",
    "    f = lambda _: model.loss(X, y)[0]\n",
    "    grad_num = eval_numerical_gradient(f, model.params[name], verbose=False, h=1e-5)\n",
    "    print('%s relative error: %.2e' % (name, rel_error(grad_num, grads[name])))"
   ]
  },
  {
   "cell_type": "markdown",
   "metadata": {},
   "source": [
    "As another sanity check, make sure you can overfit a small dataset of 50 images. First we will try a three-layer network with 100 units in each hidden layer. In the following cell, tweak the **learning rate** and **weight initialization scale** to overfit and achieve 100% training accuracy within 20 epochs."
   ]
  },
  {
   "cell_type": "code",
   "execution_count": 24,
   "metadata": {
    "scrolled": false
   },
   "outputs": [
    {
     "name": "stdout",
     "output_type": "stream",
     "text": [
      "(Iteration 1 / 40) loss: 33.650324\n",
      "(Epoch 0 / 20) train acc: 0.260000; val_acc: 0.115000\n",
      "(Epoch 1 / 20) train acc: 0.180000; val_acc: 0.122000\n",
      "(Epoch 2 / 20) train acc: 0.340000; val_acc: 0.152000\n",
      "(Epoch 3 / 20) train acc: 0.680000; val_acc: 0.126000\n",
      "(Epoch 4 / 20) train acc: 0.860000; val_acc: 0.123000\n",
      "(Epoch 5 / 20) train acc: 0.900000; val_acc: 0.120000\n",
      "(Iteration 11 / 40) loss: 1.773742\n",
      "(Epoch 6 / 20) train acc: 0.980000; val_acc: 0.129000\n",
      "(Epoch 7 / 20) train acc: 0.760000; val_acc: 0.143000\n",
      "(Epoch 8 / 20) train acc: 0.920000; val_acc: 0.137000\n",
      "(Epoch 9 / 20) train acc: 0.940000; val_acc: 0.127000\n",
      "(Epoch 10 / 20) train acc: 0.980000; val_acc: 0.125000\n",
      "(Iteration 21 / 40) loss: 0.054729\n",
      "(Epoch 11 / 20) train acc: 1.000000; val_acc: 0.131000\n",
      "(Epoch 12 / 20) train acc: 1.000000; val_acc: 0.131000\n",
      "(Epoch 13 / 20) train acc: 1.000000; val_acc: 0.131000\n",
      "(Epoch 14 / 20) train acc: 1.000000; val_acc: 0.131000\n",
      "(Epoch 15 / 20) train acc: 1.000000; val_acc: 0.131000\n",
      "(Iteration 31 / 40) loss: 0.001303\n",
      "(Epoch 16 / 20) train acc: 1.000000; val_acc: 0.131000\n",
      "(Epoch 17 / 20) train acc: 1.000000; val_acc: 0.131000\n",
      "(Epoch 18 / 20) train acc: 1.000000; val_acc: 0.131000\n",
      "(Epoch 19 / 20) train acc: 1.000000; val_acc: 0.131000\n",
      "(Epoch 20 / 20) train acc: 1.000000; val_acc: 0.131000\n"
     ]
    },
    {
     "data": {
      "image/png": "[encoded data removed]",
      "text/plain": [
       "<Figure size 432x288 with 1 Axes>"
      ]
     },
     "metadata": {
      "needs_background": "light"
     },
     "output_type": "display_data"
    }
   ],
   "source": [
    "# TODO: Use a three-layer Net to overfit 50 training examples by \n",
    "# tweaking just the learning rate and initialization scale.\n",
    "\n",
    "num_train = 50\n",
    "small_data = {\n",
    "  'X_train': data['X_train'][:num_train],\n",
    "  'y_train': data['y_train'][:num_train],\n",
    "  'X_val': data['X_val'],\n",
    "  'y_val': data['y_val'],\n",
    "}\n",
    "\n",
    "weight_scale = 5e-2   # Experiment with this!\n",
    "learning_rate = 2e-3  # Experiment with this!\n",
    "model = FullyConnectedNet([100, 100],\n",
    "              weight_scale=weight_scale, dtype=np.float64)\n",
    "solver = Solver(model, small_data,\n",
    "                print_every=10, num_epochs=20, batch_size=25,\n",
    "                update_rule='sgd',\n",
    "                optim_config={\n",
    "                  'learning_rate': learning_rate,\n",
    "                }\n",
    "         )\n",
    "solver.train()\n",
    "\n",
    "plt.plot(solver.loss_history, 'o')\n",
    "plt.title('Training loss history')\n",
    "plt.xlabel('Iteration')\n",
    "plt.ylabel('Training loss')\n",
    "plt.show()"
   ]
  },
  {
   "cell_type": "markdown",
   "metadata": {},
   "source": [
    "Now try to use a five-layer network with 100 units on each layer to overfit 50 training examples. Again, you will have to adjust the learning rate and weight initialization scale, but you should be able to achieve 100% training accuracy within 20 epochs."
   ]
  },
  {
   "cell_type": "code",
   "execution_count": 25,
   "metadata": {},
   "outputs": [
    {
     "name": "stdout",
     "output_type": "stream",
     "text": [
      "(Iteration 1 / 40) loss: 33.447747\n",
      "(Epoch 0 / 20) train acc: 0.260000; val_acc: 0.113000\n",
      "(Epoch 1 / 20) train acc: 0.380000; val_acc: 0.102000\n",
      "(Epoch 2 / 20) train acc: 0.400000; val_acc: 0.125000\n",
      "(Epoch 3 / 20) train acc: 0.600000; val_acc: 0.128000\n",
      "(Epoch 4 / 20) train acc: 0.840000; val_acc: 0.120000\n",
      "(Epoch 5 / 20) train acc: 0.940000; val_acc: 0.117000\n",
      "(Iteration 11 / 40) loss: 0.172914\n",
      "(Epoch 6 / 20) train acc: 1.000000; val_acc: 0.126000\n",
      "(Epoch 7 / 20) train acc: 1.000000; val_acc: 0.125000\n",
      "(Epoch 8 / 20) train acc: 1.000000; val_acc: 0.125000\n",
      "(Epoch 9 / 20) train acc: 1.000000; val_acc: 0.125000\n",
      "(Epoch 10 / 20) train acc: 1.000000; val_acc: 0.125000\n",
      "(Iteration 21 / 40) loss: 0.001886\n",
      "(Epoch 11 / 20) train acc: 1.000000; val_acc: 0.124000\n",
      "(Epoch 12 / 20) train acc: 1.000000; val_acc: 0.124000\n",
      "(Epoch 13 / 20) train acc: 1.000000; val_acc: 0.125000\n",
      "(Epoch 14 / 20) train acc: 1.000000; val_acc: 0.125000\n",
      "(Epoch 15 / 20) train acc: 1.000000; val_acc: 0.125000\n",
      "(Iteration 31 / 40) loss: 0.001245\n",
      "(Epoch 16 / 20) train acc: 1.000000; val_acc: 0.124000\n",
      "(Epoch 17 / 20) train acc: 1.000000; val_acc: 0.124000\n",
      "(Epoch 18 / 20) train acc: 1.000000; val_acc: 0.124000\n",
      "(Epoch 19 / 20) train acc: 1.000000; val_acc: 0.123000\n",
      "(Epoch 20 / 20) train acc: 1.000000; val_acc: 0.123000\n"
     ]
    },
    {
     "data": {
      "image/png": "[encoded data removed]",
      "text/plain": [
       "<Figure size 432x288 with 1 Axes>"
      ]
     },
     "metadata": {
      "needs_background": "light"
     },
     "output_type": "display_data"
    }
   ],
   "source": [
    "# TODO: Use a five-layer Net to overfit 50 training examples by \n",
    "# tweaking just the learning rate and initialization scale.\n",
    "\n",
    "num_train = 50\n",
    "small_data = {\n",
    "  'X_train': data['X_train'][:num_train],\n",
    "  'y_train': data['y_train'][:num_train],\n",
    "  'X_val': data['X_val'],\n",
    "  'y_val': data['y_val'],\n",
    "}\n",
    "\n",
    "learning_rate = 1e-3  # Experiment with this!\n",
    "weight_scale = 8e-2   # Experiment with this!\n",
    "model = FullyConnectedNet([100, 100, 100, 100],\n",
    "                weight_scale=weight_scale, dtype=np.float64)\n",
    "solver = Solver(model, small_data,\n",
    "                print_every=10, num_epochs=20, batch_size=25,\n",
    "                update_rule='sgd',\n",
    "                optim_config={\n",
    "                  'learning_rate': learning_rate,\n",
    "                }\n",
    "         )\n",
    "solver.train()\n",
    "\n",
    "plt.plot(solver.loss_history, 'o')\n",
    "plt.title('Training loss history')\n",
    "plt.xlabel('Iteration')\n",
    "plt.ylabel('Training loss')\n",
    "plt.show()"
   ]
  }
 ],
 "metadata": {
  "kernelspec": {
   "display_name": "Python 3",
   "language": "python",
   "name": "python3"
  },
  "language_info": {
   "codemirror_mode": {
    "name": "ipython",
    "version": 3
   },
   "file_extension": ".py",
   "mimetype": "text/x-python",
   "name": "python",
   "nbconvert_exporter": "python",
   "pygments_lexer": "ipython3",
   "version": "3.7.16"
  }
 },
 "nbformat": 4,
 "nbformat_minor": 4
}
